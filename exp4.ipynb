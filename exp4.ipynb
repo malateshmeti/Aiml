{
 "cells": [
  {
   "cell_type": "code",
   "execution_count": 23,
   "id": "8192541c",
   "metadata": {},
   "outputs": [],
   "source": [
    "import math\n",
    "import csv\n",
    "\n",
    "def load_csv(data3_test):\n",
    "    lines = csv.reader(open(data3_test, \"r\"));\n",
    "    dataset = list(lines)\n",
    "    headers = dataset.pop(0)\n",
    "    return dataset, headers\n",
    "\n",
    "class Node:\n",
    "    def __init__(self, attribute):\n",
    "        self.attribute = attribute\n",
    "        self.children = []\n",
    "        self.answer = \"\"\n",
    "\n"
   ]
  },
  {
   "cell_type": "code",
   "execution_count": 24,
   "id": "bda195f2",
   "metadata": {},
   "outputs": [],
   "source": [
    "def subtables(data, col, delete):\n",
    "    dic = {}\n",
    "    coldata = [ row[col] for row in data]\n",
    "    attr = list(set(coldata))\n",
    "    for k in attr:\n",
    "        dic[k] = []\n",
    "    for y in range(len(data)):\n",
    "        key = data[y][col]\n",
    "        if delete:\n",
    "            del data[y][col]\n",
    "            dic[key].append(data[y])\n",
    "    return attr, dic\n"
   ]
  },
  {
   "cell_type": "code",
   "execution_count": 25,
   "id": "e6c01014",
   "metadata": {},
   "outputs": [],
   "source": [
    "def entropy(S):\n",
    "    attr = list(set(S))\n",
    "    if len(attr) == 1: \n",
    "        return 0\n",
    "    counts = [0,0]\n",
    "    for i in range(2):\n",
    "        counts[i] = sum( [1 for x in S if attr[i] == x] ) / (len(S) * 1.0)\n",
    "        sums = 0\n",
    "    for cnt in counts:\n",
    "        sums += -1 * cnt * math.log(cnt, 2)\n",
    "    return sums\n"
   ]
  },
  {
   "cell_type": "code",
   "execution_count": 26,
   "id": "882ea3f1",
   "metadata": {},
   "outputs": [],
   "source": [
    "def compute_gain(data, col):\n",
    "    attValues, dic = subtables(data, col, delete=False)\n",
    "    total_entropy = entropy([row[-1] for row in data])\n",
    "    for x in range(len(attValues)):\n",
    "        ratio = len(dic[attValues[x]]) / ( len(data) * 1.0)\n",
    "        entro = entropy([row[-1] for row in dic[attValues[x]]])\n",
    "        total_entropy -= ratio*entro\n",
    "    return total_entropy\n"
   ]
  },
  {
   "cell_type": "code",
   "execution_count": 27,
   "id": "d81dc486",
   "metadata": {},
   "outputs": [],
   "source": [
    "def build_tree(data, features):\n",
    "    lastcol = [row[-1] for row in data]\n",
    "    if (len(set(lastcol))) == 1: \n",
    "        node=Node(\"\")\n",
    "        node.answer = lastcol[0]\n",
    "        return node\n",
    "    n = len(data[0])-1\n",
    "    \n",
    "    gains = [compute_gain(data, col) for col in range(n) ]\n",
    "    split = gains.index(max(gains)) \n",
    "    node = Node(features[split]) \n",
    "    fea = features[:split]+features[split+1:]\n",
    "    attr, dic = subtables(data, split, delete=True) \n",
    "    for x in range(len(attr)):\n",
    "        child = build_tree(dic[attr[x]], fea)\n",
    "        node.children.append((attr[x], child))\n",
    "    return node\n"
   ]
  },
  {
   "cell_type": "code",
   "execution_count": 28,
   "id": "c7221c5f",
   "metadata": {},
   "outputs": [],
   "source": [
    "def print_tree(node, level):\n",
    "    if node.answer != \"\":\n",
    "        print(\" \"*level, node.answer) \n",
    "        return\n",
    "    print(\" \"*level, node.attribute) \n",
    "    for value, n in node.children:\n",
    "        print(\" \"*(level+1), value)\n",
    "        print_tree(n, level + 2)\n"
   ]
  },
  {
   "cell_type": "code",
   "execution_count": 30,
   "id": "14f30625",
   "metadata": {},
   "outputs": [
    {
     "name": "stdout",
     "output_type": "stream",
     "text": [
      "The decision tree for the dataset using ID3 algorithm is \n",
      " strong\n",
      "The test instance :  ['rain', 'cool', 'normal', 'strong']\n",
      "The predicted label : \n",
      "strong\n",
      "The test instance :  ['sunny', 'mild', 'normal', 'strong']\n",
      "The predicted label : \n",
      "strong\n"
     ]
    }
   ],
   "source": [
    "def classify(node,x_test,features):\n",
    "    if node.answer != \"\":\n",
    "        print(node.answer)\n",
    "        return\n",
    "    pos = features.index(node.attribute)\n",
    "    for value, n in node.children:\n",
    "        if x_test[pos]==value:\n",
    "            classify(n,x_test,features)\n",
    "            \n",
    "dataset, features = load_csv(\"data3_test.csv\") \n",
    "node = build_tree(dataset, features) \n",
    "print(\"The decision tree for the dataset using ID3 algorithm is \")\n",
    "print_tree(node, 0)\n",
    "testdata, features = load_csv(\"data3_test.csv\")\n",
    "for xtest in testdata:\n",
    "    print(\"The test instance : \",xtest)\n",
    "    print(\"The predicted label : \")\n",
    "    classify(node,xtest,features)"
   ]
  },
  {
   "cell_type": "code",
   "execution_count": null,
   "id": "97f3d789",
   "metadata": {},
   "outputs": [],
   "source": []
  }
 ],
 "metadata": {
  "kernelspec": {
   "display_name": "Python 3 (ipykernel)",
   "language": "python",
   "name": "python3"
  },
  "language_info": {
   "codemirror_mode": {
    "name": "ipython",
    "version": 3
   },
   "file_extension": ".py",
   "mimetype": "text/x-python",
   "name": "python",
   "nbconvert_exporter": "python",
   "pygments_lexer": "ipython3",
   "version": "3.9.12"
  }
 },
 "nbformat": 4,
 "nbformat_minor": 5
}
