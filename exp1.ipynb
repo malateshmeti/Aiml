{
 "cells": [
  {
   "cell_type": "code",
   "execution_count": 8,
   "id": "60f51877",
   "metadata": {},
   "outputs": [],
   "source": [
    "def aStarAlgo(start_node, stop_node):\n",
    "    open_set = set(start_node)\n",
    "    closed_set = set()\n",
    "    g = {} \n",
    "    parents = {} \n",
    "    g[start_node] = 0\n",
    "    parents[start_node] = start_node\n",
    "    \n",
    "    while len(open_set) > 0:\n",
    "        n = None\n",
    "        for v in open_set:\n",
    "            if n == None or g[v] + heuristic(v) < g[n] + heuristic(n):\n",
    "                n = v\n",
    "        if n == stop_node or Graph_nodes[n] == None:\n",
    "            pass\n",
    "        else:\n",
    "            for (m, weight) in get_neighbors(n):\n",
    "                if m not in open_set and m not in closed_set:\n",
    "                    open_set.add(m)\n",
    "                    parents[m] = n\n",
    "                    g[m] = g[n] + weight\n",
    "                else:\n",
    "                    if g[m] > g[n] + weight:\n",
    "                        g[m] = g[n] + weight\n",
    "                        parents[m] = n\n",
    "                        if m in closed_set:\n",
    "                            closed_set.remove(m)\n",
    "                            open_set.add(m)\n",
    "                            \n",
    "        if n == None:\n",
    "            print('Path does not exist!')\n",
    "            return None\n",
    "        if n == stop_node:\n",
    "            path = []\n",
    "            while parents[n] != n:\n",
    "                path.append(n)\n",
    "                n = parents[n]\n",
    "                path.append(start_node)\n",
    "                path.reverse()\n",
    "                print('Path found: {}'.format(path))\n",
    "                return path\n",
    "            open_set.remove(n)\n",
    "            closed_set.add(n)\n",
    "        print('Path does not exist!')\n",
    "        return None\n"
   ]
  },
  {
   "cell_type": "code",
   "execution_count": 9,
   "id": "444bed06",
   "metadata": {},
   "outputs": [],
   "source": [
    "def get_neighbors(v):\n",
    "    if v in Graph_nodes:\n",
    "        return Graph_nodes[v]\n",
    "    else:\n",
    "        return None\n"
   ]
  },
  {
   "cell_type": "code",
   "execution_count": 10,
   "id": "e9b4c32a",
   "metadata": {},
   "outputs": [
    {
     "name": "stdout",
     "output_type": "stream",
     "text": [
      "Path does not exist!\n"
     ]
    }
   ],
   "source": [
    "def heuristic(n):\n",
    "    H_dist = { \n",
    "        'A': 11,\n",
    "         'B': 6,\n",
    "         'C': 99,\n",
    "         'D': 1,\n",
    "         'E': 7,\n",
    "         'G': 0\n",
    "        }\n",
    "    \n",
    "    return H_dist[n]\n",
    "Graph_nodes = {\n",
    "         'A': [('B', 2), ('E', 3)],\n",
    "         'B': [('A', 2), ('C', 1), ('G', 9)],\n",
    "         'C': [('B', 1)],\n",
    "         'D': [('E', 6), ('G', 1)],\n",
    "         'E': [('A', 3), ('D', 6)],\n",
    "         'G': [('B', 9), ('D', 1)]\n",
    "}\n",
    "aStarAlgo('A', 'G')"
   ]
  },
  {
   "cell_type": "code",
   "execution_count": null,
   "id": "dfb4445e",
   "metadata": {},
   "outputs": [],
   "source": []
  }
 ],
 "metadata": {
  "kernelspec": {
   "display_name": "Python 3 (ipykernel)",
   "language": "python",
   "name": "python3"
  },
  "language_info": {
   "codemirror_mode": {
    "name": "ipython",
    "version": 3
   },
   "file_extension": ".py",
   "mimetype": "text/x-python",
   "name": "python",
   "nbconvert_exporter": "python",
   "pygments_lexer": "ipython3",
   "version": "3.9.12"
  }
 },
 "nbformat": 4,
 "nbformat_minor": 5
}
