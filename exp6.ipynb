{
 "cells": [
  {
   "cell_type": "code",
   "execution_count": 1,
   "id": "1ba9d6ca",
   "metadata": {},
   "outputs": [
    {
     "name": "stdout",
     "output_type": "stream",
     "text": [
      "\n",
      " the total number of Training Data : (514, 1)\n",
      "\n",
      " the total number of Test Data : (254, 1)\n",
      "\n",
      " Confusion matrix\n",
      "[[138  25]\n",
      " [ 27  64]]\n",
      "\n",
      " Accuracy of the classifier is 0.7952755905511811\n",
      "\n",
      " The value of Precision 0.7191011235955056\n",
      "\n",
      " The value of Recall 0.7032967032967034\n",
      "Predicted Value for individual Test Data: [1]\n"
     ]
    }
   ],
   "source": [
    "import pandas as pd\n",
    "from sklearn.model_selection import train_test_split\n",
    "from sklearn.naive_bayes import GaussianNB\n",
    "from sklearn import metrics\n",
    "\n",
    "df = pd.read_csv(\"pima_indian.csv\")\n",
    "feature_col_names = ['num_preg', 'glucose_conc', 'diastolic_bp', 'thickness', 'insulin', 'bmi', 'diab_pred', 'age']\n",
    "predicted_class_names = ['diabetes']\n",
    "\n",
    "X = df[feature_col_names].values \n",
    "y = df[predicted_class_names].values \n",
    "\n",
    "\n",
    "\n",
    "xtrain,xtest,ytrain,ytest=train_test_split(X,y,test_size=0.33)\n",
    "\n",
    "print ('\\n the total number of Training Data :',ytrain.shape)\n",
    "print ('\\n the total number of Test Data :',ytest.shape)\n",
    "\n",
    "\n",
    "clf = GaussianNB().fit(xtrain,ytrain.ravel())\n",
    "predicted = clf.predict(xtest)\n",
    "predictTestData= clf.predict([[6,148,72,35,0,33.6,0.627,50]])\n",
    "\n",
    "\n",
    "print('\\n Confusion matrix')\n",
    "print(metrics.confusion_matrix(ytest,predicted))\n",
    "\n",
    "print('\\n Accuracy of the classifier is',metrics.accuracy_score(ytest,predicted))\n",
    "\n",
    "print('\\n The value of Precision', metrics.precision_score(ytest,predicted))\n",
    "\n",
    "print('\\n The value of Recall', metrics.recall_score(ytest,predicted))\n",
    "\n",
    "print(\"Predicted Value for individual Test Data:\", predictTestData)"
   ]
  },
  {
   "cell_type": "code",
   "execution_count": null,
   "id": "25087f7a",
   "metadata": {},
   "outputs": [],
   "source": []
  }
 ],
 "metadata": {
  "kernelspec": {
   "display_name": "Python 3 (ipykernel)",
   "language": "python",
   "name": "python3"
  },
  "language_info": {
   "codemirror_mode": {
    "name": "ipython",
    "version": 3
   },
   "file_extension": ".py",
   "mimetype": "text/x-python",
   "name": "python",
   "nbconvert_exporter": "python",
   "pygments_lexer": "ipython3",
   "version": "3.9.12"
  }
 },
 "nbformat": 4,
 "nbformat_minor": 5
}
